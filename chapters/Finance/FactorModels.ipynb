{
 "cells": [
  {
   "cell_type": "markdown",
   "id": "bfcd2dd3",
   "metadata": {},
   "source": [
    "# Introduction to Factor models \n",
    "\n",
    "\n",
    "\n",
    "---\n",
    "\n",
    "**🎯 Learning Objectives**\n",
    "\n",
    "By the end of this chapter, you should be able to:\n",
    "\n",
    "1. **Decode the α / β decomposition.**  \n",
    "   Learn how any asset’s excess return can be split into a factor‐driven piece (β × factor) and an asset-specific alpha, and see how this dual role lets factor models describe both risk and expected return.  \n",
    "\n",
    "2. **Estimate factor exposure and alpha with regression.**  \n",
    "   Use time-series regressions of excess returns on factor returns to obtain β, α, residuals, and the associated statistics that guide portfolio design.  \n",
    "\n",
    "3. **Create tracking and hedged portfolios.**  \n",
    "   Build a *tracking* portfolio equal to β times the factor, and a *hedged* (portable-alpha) portfolio that subtracts the tracking position—delivering pure alpha with zero in-sample factor risk.  \n",
    "\n",
    "4. **Size positions under explicit risk budgets.**  \n",
    "   Apply volatility budgets at daily, monthly, or annual horizons; compute how much capital you can allocate to an unhedged position versus a hedged one, given its variance components.  \n",
    "\n",
    "5. **Appreciate the practical uses of factor models.**  \n",
    "   Understand why asset managers, pod shops, and risk desks rely on factor models to separate skill from beta, impose discipline on risk taking, and communicate performance.\n",
    "\n",
    "\n",
    "\n",
    "---\n",
    "\n",
    "\n",
    "\n",
    "\n",
    "\n"
   ]
  },
  {
   "cell_type": "markdown",
   "id": "1fc65974",
   "metadata": {},
   "source": [
    "## Libraries and Auxiliary Functions"
   ]
  },
  {
   "cell_type": "code",
   "execution_count": null,
   "id": "c254cb3c",
   "metadata": {
    "tags": [
     "hide-cell"
    ]
   },
   "outputs": [],
   "source": [
    "%pip install wrds\n",
    "\n"
   ]
  },
  {
   "cell_type": "code",
   "execution_count": 1,
   "id": "5199978f",
   "metadata": {
    "tags": [
     "hide-cell"
    ]
   },
   "outputs": [],
   "source": [
    "# load libraries\n",
    "import numpy as np\n",
    "import pandas as pd\n",
    "import wrds\n",
    "%matplotlib inline\n",
    "import matplotlib.pyplot as plt\n",
    "\n",
    "import pandas_datareader.data as web\n",
    "from pandas_datareader.data import DataReader\n",
    "import datetime\n",
    "\n",
    "\n"
   ]
  },
  {
   "cell_type": "code",
   "execution_count": 2,
   "id": "1a5069e5",
   "metadata": {
    "tags": [
     "hide-cell"
    ]
   },
   "outputs": [],
   "source": [
    "\n",
    "# define functions  \n",
    "def get_daily_wrds(conn,tickers=None):\n",
    "  \n",
    "    # Retrieve PERMNOs for the specified tickers\n",
    "    permnos = conn.get_table(library='crsp', table='stocknames', columns=['permno', 'ticker', 'namedt', 'nameenddt'])\n",
    "    permnos['nameenddt']=pd.to_datetime(permnos['nameenddt'])\n",
    "    permnos = permnos[(permnos['ticker'].isin(tickers)) & (permnos['nameenddt']==permnos['nameenddt'].max())]\n",
    "    # Extract unique PERMNOs\n",
    "    permno_list = permnos['permno'].unique().tolist()\n",
    "    print(permno_list)\n",
    "\n",
    "    # Query daily stock file for the specified PERMNOs\n",
    "    \n",
    "    query = f\"\"\"\n",
    "        SELECT permno, date, ret, retx, prc       \n",
    "        FROM crsp.dsf\n",
    "        WHERE permno IN ({','.join(map(str, permno_list))})\n",
    "        ORDER BY date,permno\n",
    "    \"\"\"\n",
    "    daily_returns = conn.raw_sql(query, date_cols=['date'])\n",
    "    daily_returns = daily_returns.merge(permnos[['permno', 'ticker']], on='permno', how='left')\n",
    "# Pivot data to have dates as index and tickers as columns\n",
    "    daily_returns = daily_returns.pivot(index='date', columns='ticker', values='ret')    \n",
    "    daily_returns=daily_returns[tickers]\n",
    "\n",
    "    return daily_returns\n",
    "\n",
    "\n",
    "\n",
    "def get_factors(ff6=False):\n",
    "    \n",
    "    fama_french = web.DataReader(\"F-F_Research_Data_5_Factors_2x3_daily\", \"famafrench\",start=\"1926-01-01\")\n",
    "    daily_data = fama_french[0]  # The first DataFrame contains the daily data\n",
    "    daily_data.index = pd.to_datetime(daily_data.index)  # Ensure index is datetime\n",
    "    if ff6==False:\n",
    "        df_factor = daily_data[['RF','Mkt-RF']]  # Extract the Risk-Free Rate (RF)\n",
    "    else:\n",
    "        df_factor = daily_data[['RF','Mkt-RF','SMB','HML','RMW','CMA']]\n",
    "        fama_french = web.DataReader(\"F-F_Momentum_Factor_daily\", \"famafrench\",start=\"1926-01-01\")\n",
    "        df_factor=df_factor.merge(fama_french[0],on='Date')\n",
    "    \n",
    "    return df_factor/100"
   ]
  },
  {
   "cell_type": "markdown",
   "id": "c90f5d23",
   "metadata": {},
   "source": [
    "\n",
    "## Towards a factor Model\n",
    "\n",
    "- First idea is that stocks might have different degree of co-movement\n",
    "- For example, Defensive stocks like utilities, supermarkets, and so on might not suffer as much when the market tanks\n",
    "    - Their cash flow might be more recession proof for example\n",
    "    - While luxury good producers like LMVH might be more sensitive to the stock market given its consumer base\n",
    "- Small stocks, stocks with high leverage and so one might particularly suffer during economic busts\n",
    "\n",
    "\n",
    "\n",
    "$$(excess~return)=(intercept)+(stock~beta)*(factor~excess~return)+ (idio~risk)$$\n",
    "\n"
   ]
  },
  {
   "cell_type": "code",
   "execution_count": 3,
   "id": "ca419930",
   "metadata": {},
   "outputs": [
    {
     "name": "stdout",
     "output_type": "stream",
     "text": [
      "WRDS recommends setting up a .pgpass file.\n",
      "Created .pgpass file successfully.\n",
      "You can create this file yourself at any time with the create_pgpass_file() function.\n",
      "Loading library list...\n",
      "Done\n",
      "[47896, 55976, 84398]\n"
     ]
    },
    {
     "data": {
      "text/html": [
       "<div>\n",
       "<style scoped>\n",
       "    .dataframe tbody tr th:only-of-type {\n",
       "        vertical-align: middle;\n",
       "    }\n",
       "\n",
       "    .dataframe tbody tr th {\n",
       "        vertical-align: top;\n",
       "    }\n",
       "\n",
       "    .dataframe thead th {\n",
       "        text-align: right;\n",
       "    }\n",
       "</style>\n",
       "<table border=\"1\" class=\"dataframe\">\n",
       "  <thead>\n",
       "    <tr style=\"text-align: right;\">\n",
       "      <th></th>\n",
       "      <th>SPY</th>\n",
       "      <th>WMT</th>\n",
       "      <th>JPM</th>\n",
       "    </tr>\n",
       "    <tr>\n",
       "      <th>date</th>\n",
       "      <th></th>\n",
       "      <th></th>\n",
       "      <th></th>\n",
       "    </tr>\n",
       "  </thead>\n",
       "  <tbody>\n",
       "    <tr>\n",
       "      <th>1969-03-05</th>\n",
       "      <td>NaN</td>\n",
       "      <td>NaN</td>\n",
       "      <td>NaN</td>\n",
       "    </tr>\n",
       "    <tr>\n",
       "      <th>1969-03-06</th>\n",
       "      <td>NaN</td>\n",
       "      <td>NaN</td>\n",
       "      <td>NaN</td>\n",
       "    </tr>\n",
       "    <tr>\n",
       "      <th>1969-03-07</th>\n",
       "      <td>NaN</td>\n",
       "      <td>NaN</td>\n",
       "      <td>NaN</td>\n",
       "    </tr>\n",
       "    <tr>\n",
       "      <th>1969-03-10</th>\n",
       "      <td>NaN</td>\n",
       "      <td>NaN</td>\n",
       "      <td>NaN</td>\n",
       "    </tr>\n",
       "    <tr>\n",
       "      <th>1969-03-11</th>\n",
       "      <td>NaN</td>\n",
       "      <td>NaN</td>\n",
       "      <td>NaN</td>\n",
       "    </tr>\n",
       "    <tr>\n",
       "      <th>...</th>\n",
       "      <td>...</td>\n",
       "      <td>...</td>\n",
       "      <td>...</td>\n",
       "    </tr>\n",
       "    <tr>\n",
       "      <th>2024-12-24</th>\n",
       "      <td>0.010940</td>\n",
       "      <td>0.025614</td>\n",
       "      <td>0.016269</td>\n",
       "    </tr>\n",
       "    <tr>\n",
       "      <th>2024-12-26</th>\n",
       "      <td>-0.000106</td>\n",
       "      <td>0.001014</td>\n",
       "      <td>0.003252</td>\n",
       "    </tr>\n",
       "    <tr>\n",
       "      <th>2024-12-27</th>\n",
       "      <td>-0.010698</td>\n",
       "      <td>-0.012349</td>\n",
       "      <td>-0.008273</td>\n",
       "    </tr>\n",
       "    <tr>\n",
       "      <th>2024-12-30</th>\n",
       "      <td>-0.011585</td>\n",
       "      <td>-0.012065</td>\n",
       "      <td>-0.007844</td>\n",
       "    </tr>\n",
       "    <tr>\n",
       "      <th>2024-12-31</th>\n",
       "      <td>-0.003811</td>\n",
       "      <td>-0.002602</td>\n",
       "      <td>0.001457</td>\n",
       "    </tr>\n",
       "  </tbody>\n",
       "</table>\n",
       "<p>14079 rows × 3 columns</p>\n",
       "</div>"
      ],
      "text/plain": [
       "                 SPY       WMT       JPM\n",
       "date                                    \n",
       "1969-03-05       NaN       NaN       NaN\n",
       "1969-03-06       NaN       NaN       NaN\n",
       "1969-03-07       NaN       NaN       NaN\n",
       "1969-03-10       NaN       NaN       NaN\n",
       "1969-03-11       NaN       NaN       NaN\n",
       "...              ...       ...       ...\n",
       "2024-12-24  0.010940  0.025614  0.016269\n",
       "2024-12-26 -0.000106  0.001014  0.003252\n",
       "2024-12-27 -0.010698 -0.012349 -0.008273\n",
       "2024-12-30 -0.011585 -0.012065 -0.007844\n",
       "2024-12-31 -0.003811 -0.002602  0.001457\n",
       "\n",
       "[14079 rows x 3 columns]"
      ]
     },
     "execution_count": 3,
     "metadata": {},
     "output_type": "execute_result"
    }
   ],
   "source": [
    "conn = wrds.Connection()\n",
    "\n",
    "# get our stock returns\n",
    "\n",
    "df=get_daily_wrds(conn,tickers=['SPY','WMT','JPM'])\n",
    "\n",
    "# GET RISK FREE RATE\n",
    "start_date = datetime.datetime(1960, 1, 1)  # Start date (adjust as needed)\n",
    "end_date = datetime.datetime.now()          # End date\n",
    "df_rf = DataReader(\"DGS3MO\", \"fred\", start_date, end_date)\n",
    "df_rf.reset_index(inplace=True)\n",
    "df_rf.columns = [\"Date\", \"rf\"]\n",
    "df_rf.rf=df_rf.rf/100\n",
    "df_rf.set_index(\"Date\", inplace=True)\n",
    "\n",
    "# merge with the risk-free rate\n",
    "df=df.merge(df_rf/252, left_index=True, right_index=True,how='left')\n",
    "#\n",
    "df_re=df.drop(columns='rf').sub(df['rf'],axis=0)\n",
    "df_re"
   ]
  },
  {
   "cell_type": "markdown",
   "id": "8700f72c",
   "metadata": {},
   "source": [
    "How do we estimate this model?\n",
    "\n",
    "\n",
    "\n",
    "$$(excess~return)=(intercept)+(stock~beta)*(SPY~excess~return)+ (idio~risk)$$\n",
    "\n",
    "What should we plot against our factor excess returns to see if it \"worked\"?\n",
    "\n",
    "What do you expect to see?"
   ]
  },
  {
   "cell_type": "code",
   "execution_count": null,
   "id": "a3d93326",
   "metadata": {},
   "outputs": [],
   "source": [
    "\n",
    "\n",
    "fig, axes = plt.subplots(1, 2, figsize=(18,6))\n",
    "\n",
    "_temp= df_re.dropna(subset=['SPY', 'WMT'])\n",
    "import statsmodels.formula.api as smf\n",
    "model = 0\n",
    "intercept_wmt, beta_wmt = model.params\n",
    "print(f'beta of asset WMT is {beta_wmt}')\n",
    "axes[0].scatter(x=df_re['SPY'], y=(0))\n",
    "axes[0].set_title('SPY vs ?')\n",
    "\n",
    "# now do for JPM\n",
    "_temp= df_re.dropna(subset=['SPY', 'JPM'])\n"
   ]
  },
  {
   "cell_type": "markdown",
   "id": "2f8d4a96",
   "metadata": {},
   "source": [
    "Did it work?\n",
    "\n",
    "- What the regression guarantees about the relationship between the stock specific component and the factor excess return?\n",
    "- Does this condition always hold?\n",
    "\n",
    "\n",
    "$$stock~specific~component=(excess~return)-(stock~beta)*(factor~excess~return)$$"
   ]
  },
  {
   "cell_type": "code",
   "execution_count": null,
   "id": "78a341a2",
   "metadata": {},
   "outputs": [
    {
     "data": {
      "text/plain": [
       "ticker\n",
       "SPY    1.656269e-16\n",
       "dtype: float64"
      ]
     },
     "metadata": {},
     "output_type": "display_data"
    }
   ],
   "source": [
    "print(df_re[['SPY']].corrwith(0))\n",
    "print(df_re[['SPY']].corrwith(0))\n"
   ]
  },
  {
   "cell_type": "markdown",
   "id": "882ba65c",
   "metadata": {},
   "source": [
    "\n",
    "\n",
    "\n",
    "> How do we estimate the amount of idiosyncratic risk?\n",
    ">\n",
    "> How do we estimate the amount of systematic risk?\n",
    "\n"
   ]
  },
  {
   "cell_type": "markdown",
   "id": "b9235dee",
   "metadata": {},
   "source": [
    "## Factor Models come in two flavors\n",
    "\n",
    "\n",
    "1. It can be useful for measuring risk if\n",
    "    - The risk $\\epsilon$ is specific to asset $i$ and only weakly correlated with other assets (ideally completely)\n",
    "    - i.e if the factor explains lots of the common variation in stock returns\n",
    "    - You don't really care whether the factors face premia, but only if they explain variation in returns\n",
    "\n",
    "2. It can be useful for measuring expected returns if\n",
    "    - The premium on the factor f, $E[f]$ summarize well the known \"priced\" systematic risk factors\n",
    "    - By \"priced\" we mean risk-factors that earn a risk premium  $E[f]>0$\n",
    "    - A model can be a good model of expected returns, but not explain much of realized returns\n",
    "    - Such model is useful for performance evaluation \n",
    "\n",
    "\n",
    "\n",
    "> We will call the first a factor model of risk, and the second a factor model of expected returns. \n",
    "> \n",
    "> However, this distinction is often blurry. \n",
    "> \n",
    "> Arbitrage logic tells us that if we have a really good model of risk, we should also have a good model of expected returns\n",
    "> \n",
    "> But in practice for stocks, there is lots and lots of unexplained variation\n",
    "\n",
    "People start with a factor model with \"priced\" factors and then add additional factors to explain risk.\n",
    "\n",
    "> what does priced means in this context?\n",
    ">\n",
    " ______________________________________________\n",
    "\n",
    "\n",
    "Let $r^e$ be an asset excess return over the risk-free rate\n",
    "\n",
    "Let $f$ be a traded factor, for now  the excess returns on SPY ETF (that holds a basket that replicates the S&P 500 index)\n",
    "\n",
    "Then we can write\n",
    "\n",
    "$$r^e=\\alpha + b*f+\\epsilon$$\n",
    "\n",
    "where $b$ is asset $i$ exposure to the factor $f$\n",
    "\n",
    "> We can always write things that way--it is just a statistical decomposition\n",
    "\n",
    "Whether we are working with a \"Risk Model\" or an \"Expected Return\" model will come down to the following\n",
    "\n",
    "1. For risk model we assume $\\epsilon$ uncorrelated across stocks\n",
    "2. For Expected return model, we assume $\\alpha=0$ for all stocks/strategies\n",
    "\n",
    "What use is a factor model?\n",
    "\n",
    "- the alpha/Beta decomposition is how the money management industry is organized. \n",
    "    - Big pay days only if people think you have alpha\n",
    "    - Getting exposure to the factor is a commodity. Anyone can buy SPY or many other funds that track the market very well\n",
    "    - In most funds, specially for portfolio managers working a pod shops like Citadel (https://www.wsj.com/finance/investing/citadel-ken-griffin-hedge-funds-c9ddf51d) and Millenium (https://www.wsj.com/finance/investing/the-giant-hedge-fund-that-hates-risk-and-still-wins-1110e90a), a portfolio manager mandate is to take no factor risk--or at least aim to be close to factor neutral.\n",
    "    - It is all about the alpha \n",
    "- factor models allow you to understand and hedge risk\n",
    "    - This is essential if you want to concentrate your portfolio only on risks that you get compensated for holding"
   ]
  },
  {
   "cell_type": "markdown",
   "id": "7cd47b4c",
   "metadata": {},
   "source": [
    "\n",
    "## Alpha and Beta(s)\n",
    "\n",
    "Note that\n",
    "\n",
    "$$E[r]=E[rf+r^{e}]=rf+E[\\alpha_i + b*f+\\epsilon]$$\n",
    "\n",
    "$$E[r]=rf+\\alpha+b*E[f]+E[\\epsilon]$$\n",
    "\n",
    "- Using that $E[\\epsilon]=0$ we have\n",
    "$$E[r]=rf+\\alpha+b*E[f]$$\n",
    "\n",
    "- Thus, just like the risk of our asset could be attributed to the factor and it's component, the same model also allow us to decompose the expected return in terms of the risk-free rate, the premium coming from the common factor exposure $b*E[f]$ and the risk-premium specific to the asset, the ALPHA.\n",
    "\n",
    "\n",
    "- The alpha does not need to be in a specific asset, can be o a combination of them\n",
    "\n",
    "- The decomposition works the same for portfolio of assets\n",
    "\n",
    "- For now we have a single factor, but you will see that as you have more factors, everything is pretty much the same\n"
   ]
  },
  {
   "cell_type": "markdown",
   "id": "a736d9fd",
   "metadata": {},
   "source": [
    "## Focus on your skill, hedge all the residual risk\n",
    "\n",
    "No matter who you are, you will face dollar risk limits\n",
    "\n",
    "So it is essential that you deploy risk wisely\n",
    "\n",
    "The key use of the factor model is to give you discipline to separate your edge from the rest\n",
    "\n",
    "How to use the factor model?\n",
    "\n",
    "First , realize that each piece of the factor model will require very thoughtful estimation\n",
    "\n",
    "Even here with only one asset and one factor we already need to know many things\n",
    "\n",
    "1. The risk-free rate\n",
    "2. The strategy/asset factor beta \n",
    "3. The factor risk-premia\n",
    "4. The factor variance\n",
    "5. The strategy/asset specific alpha\n",
    "6. The strategy/asset specific variance\n",
    "   \n",
    "For now we will assume we know each of these.\n",
    "\n",
    "\n",
    "if you have an asset that has alpha, says, you are confident that APPLE will beat expectations and you expect a 5% appreciation in the next 12 months beyond any factor exposure that Apple might had, what do you do?\n",
    "\n",
    "1. Buy apple! \n",
    "\n",
    "But what if the market crashes? Why bear that risk?  \n",
    "Portfolio allocators look for managers with alpha, not beta. \n",
    "What if the market crashes before apple surprises and your investors pull out?\n",
    "\n",
    "\n",
    "2. Hedge the market\n",
    "   - How do you do that?\n",
    "   - Short it!\n",
    "   - How much?\n",
    "   - the strategy beta!\n",
    "\n",
    "\n",
    "Example:\n",
    "\n",
    "1. You buy 1M in Apple stock, so your portfolio PnL is 1M*$r^{apple}$\n",
    "2. Your portfolio PnL in excess what you would earn in treasuries is 1M*$(r^{apple}-rf)$\n",
    "3. Sell (short) 1M*$beta_{apple,f}$ of the factor\n",
    "4. Now your portfolio PnL above the risk-free rate is\n",
    "\n",
    "$$1M*(r^{apple}-rf-\\beta*r^{SPY}+\\beta*rf)$$\n",
    "\n",
    "When you sell SPY short you get the money and here I am \"investing\" it in the risk-free rate\n",
    "\n",
    "Alternatively you can think of it as using to fund the apple buy\n",
    "\n",
    "it does not matter, because we are accounting for the time-value of money\n",
    "\n",
    "We certainly don't want to invest any other risk assets as it would just add noise to our trade \n",
    "\n",
    "\n",
    "$$1M*(r^{apple}-\\beta*r^{SPY}-(1-\\beta)*rf)$$\n",
    "\n",
    "For a high beta stock your trade generates extra cash!\n",
    "\n",
    "If $\\beta>1$, $-(1-\\beta)*rf>0$\n",
    "\n",
    "This happens because you are selling more than you are buying\n",
    "\n",
    "If we substitute our factor model in our trade PnL and take expectations what do we get?\n",
    "\n",
    "$$1M*E[r^{apple}-rf-\\beta*r^{SPY}+\\beta*rf)]$$\n",
    "\n",
    "$$1M*E[\\alpha_i+rf+beta*(r^{SPY}-rf)+u_i-rf-\\beta*r^{SPY}+\\beta*rf)]$$\n",
    "\n",
    "A pure play portfolio!\n",
    "\n",
    "$$1M*E[\\alpha_i]$$\n",
    "\n",
    "And what is the portfolio risk?\n",
    "\n",
    "$$std(1M*(r^{apple}-rf-\\beta*r^{SPY}+\\beta*rf))=1M*std(u_i)$$\n",
    "\n",
    "\n",
    "- We refer to portfolio $(1,-\\beta)\\times(AAPL,SPY)$ as the Apple-factor hedged portfolio, or simply the \"hedged-portfolio\" \n",
    "\n",
    "- and refer to $-\\beta \\times $ (SPY) as the \"Hedging Portfolio\" \n",
    "\n",
    "\n"
   ]
  },
  {
   "cell_type": "markdown",
   "id": "091e1220",
   "metadata": {},
   "source": [
    "\n",
    "**Implementing**\n",
    "\n",
    "Lets do this!\n",
    "\n",
    "I will use a regression to get some numbers for us to do this strategy\n",
    "\n",
    "but for now, just think those as numbers I am giving you **and don't think of the regression as giving the right numbers necessarily.**\n",
    "\n",
    "\n"
   ]
  },
  {
   "cell_type": "code",
   "execution_count": null,
   "id": "1994e2b9",
   "metadata": {},
   "outputs": [],
   "source": [
    "%pip install wrds\n",
    "import wrds"
   ]
  },
  {
   "cell_type": "code",
   "execution_count": null,
   "id": "55838db8",
   "metadata": {},
   "outputs": [
    {
     "name": "stdout",
     "output_type": "stream",
     "text": [
      "WRDS recommends setting up a .pgpass file.\n",
      "Created .pgpass file successfully.\n",
      "You can create this file yourself at any time with the create_pgpass_file() function.\n",
      "Loading library list...\n",
      "Done\n",
      "[10107]\n",
      "ticker          MSFT\n",
      "date                \n",
      "1986-03-14  0.035714\n",
      "1986-03-17  0.017241\n",
      "1986-03-18 -0.025424\n",
      "1986-03-19 -0.017391\n",
      "1986-03-20 -0.026549\n"
     ]
    },
    {
     "data": {
      "text/html": [
       "<div>\n",
       "<style scoped>\n",
       "    .dataframe tbody tr th:only-of-type {\n",
       "        vertical-align: middle;\n",
       "    }\n",
       "\n",
       "    .dataframe tbody tr th {\n",
       "        vertical-align: top;\n",
       "    }\n",
       "\n",
       "    .dataframe thead th {\n",
       "        text-align: right;\n",
       "    }\n",
       "</style>\n",
       "<table border=\"1\" class=\"dataframe\">\n",
       "  <thead>\n",
       "    <tr style=\"text-align: right;\">\n",
       "      <th>ticker</th>\n",
       "      <th>MSFT</th>\n",
       "    </tr>\n",
       "  </thead>\n",
       "  <tbody>\n",
       "    <tr>\n",
       "      <th>count</th>\n",
       "      <td>9778.000000</td>\n",
       "    </tr>\n",
       "    <tr>\n",
       "      <th>mean</th>\n",
       "      <td>0.001128</td>\n",
       "    </tr>\n",
       "    <tr>\n",
       "      <th>std</th>\n",
       "      <td>0.021017</td>\n",
       "    </tr>\n",
       "    <tr>\n",
       "      <th>min</th>\n",
       "      <td>-0.301158</td>\n",
       "    </tr>\n",
       "    <tr>\n",
       "      <th>25%</th>\n",
       "      <td>-0.009079</td>\n",
       "    </tr>\n",
       "    <tr>\n",
       "      <th>50%</th>\n",
       "      <td>0.000380</td>\n",
       "    </tr>\n",
       "    <tr>\n",
       "      <th>75%</th>\n",
       "      <td>0.011193</td>\n",
       "    </tr>\n",
       "    <tr>\n",
       "      <th>max</th>\n",
       "      <td>0.195652</td>\n",
       "    </tr>\n",
       "  </tbody>\n",
       "</table>\n",
       "</div>"
      ],
      "text/plain": [
       "ticker         MSFT\n",
       "count   9778.000000\n",
       "mean       0.001128\n",
       "std        0.021017\n",
       "min       -0.301158\n",
       "25%       -0.009079\n",
       "50%        0.000380\n",
       "75%        0.011193\n",
       "max        0.195652"
      ]
     },
     "execution_count": 3,
     "metadata": {},
     "output_type": "execute_result"
    }
   ],
   "source": [
    "conn = wrds.Connection()\n",
    "ticker=['MSFT']\n",
    "df_returns = get_daily_wrds(conn,tickers=ticker)\n",
    "print(df_returns.head())\n",
    "df_returns.describe()"
   ]
  },
  {
   "cell_type": "code",
   "execution_count": 4,
   "id": "ce8bff47",
   "metadata": {},
   "outputs": [
    {
     "name": "stdout",
     "output_type": "stream",
     "text": [
      "                 RF  Mkt-RF\n",
      "Date                       \n",
      "1963-07-01  0.00012 -0.0067\n",
      "1963-07-02  0.00012  0.0079\n",
      "1963-07-03  0.00012  0.0063\n",
      "1963-07-05  0.00012  0.0040\n",
      "1963-07-08  0.00012 -0.0063\n"
     ]
    },
    {
     "data": {
      "text/html": [
       "<div>\n",
       "<style scoped>\n",
       "    .dataframe tbody tr th:only-of-type {\n",
       "        vertical-align: middle;\n",
       "    }\n",
       "\n",
       "    .dataframe tbody tr th {\n",
       "        vertical-align: top;\n",
       "    }\n",
       "\n",
       "    .dataframe thead th {\n",
       "        text-align: right;\n",
       "    }\n",
       "</style>\n",
       "<table border=\"1\" class=\"dataframe\">\n",
       "  <thead>\n",
       "    <tr style=\"text-align: right;\">\n",
       "      <th></th>\n",
       "      <th>RF</th>\n",
       "      <th>Mkt-RF</th>\n",
       "    </tr>\n",
       "  </thead>\n",
       "  <tbody>\n",
       "    <tr>\n",
       "      <th>count</th>\n",
       "      <td>15481.000000</td>\n",
       "      <td>15481.000000</td>\n",
       "    </tr>\n",
       "    <tr>\n",
       "      <th>mean</th>\n",
       "      <td>0.000173</td>\n",
       "      <td>0.000281</td>\n",
       "    </tr>\n",
       "    <tr>\n",
       "      <th>std</th>\n",
       "      <td>0.000125</td>\n",
       "      <td>0.010196</td>\n",
       "    </tr>\n",
       "    <tr>\n",
       "      <th>min</th>\n",
       "      <td>0.000000</td>\n",
       "      <td>-0.174400</td>\n",
       "    </tr>\n",
       "    <tr>\n",
       "      <th>25%</th>\n",
       "      <td>0.000070</td>\n",
       "      <td>-0.004200</td>\n",
       "    </tr>\n",
       "    <tr>\n",
       "      <th>50%</th>\n",
       "      <td>0.000180</td>\n",
       "      <td>0.000500</td>\n",
       "    </tr>\n",
       "    <tr>\n",
       "      <th>75%</th>\n",
       "      <td>0.000240</td>\n",
       "      <td>0.005100</td>\n",
       "    </tr>\n",
       "    <tr>\n",
       "      <th>max</th>\n",
       "      <td>0.000610</td>\n",
       "      <td>0.113500</td>\n",
       "    </tr>\n",
       "  </tbody>\n",
       "</table>\n",
       "</div>"
      ],
      "text/plain": [
       "                 RF        Mkt-RF\n",
       "count  15481.000000  15481.000000\n",
       "mean       0.000173      0.000281\n",
       "std        0.000125      0.010196\n",
       "min        0.000000     -0.174400\n",
       "25%        0.000070     -0.004200\n",
       "50%        0.000180      0.000500\n",
       "75%        0.000240      0.005100\n",
       "max        0.000610      0.113500"
      ]
     },
     "execution_count": 4,
     "metadata": {},
     "output_type": "execute_result"
    }
   ],
   "source": [
    "df_factor = get_factors()\n",
    "print(df_factor.head())\n",
    "df_factor.describe()"
   ]
  },
  {
   "cell_type": "code",
   "execution_count": 5,
   "id": "46ca229f",
   "metadata": {},
   "outputs": [],
   "source": [
    "# I will align the two dataframes to ensure that the dates are the same\n",
    "\n",
    "df_return, df_factor = df_returns.align(df_factor, join='left', axis=0)"
   ]
  },
  {
   "cell_type": "code",
   "execution_count": null,
   "id": "ee1e66c2",
   "metadata": {},
   "outputs": [
    {
     "name": "stdout",
     "output_type": "stream",
     "text": [
      "                            OLS Regression Results                            \n",
      "==============================================================================\n",
      "Dep. Variable:                      y   R-squared:                       0.415\n",
      "Model:                            OLS   Adj. R-squared:                  0.415\n",
      "Method:                 Least Squares   F-statistic:                     6937.\n",
      "Date:                Mon, 24 Mar 2025   Prob (F-statistic):               0.00\n",
      "Time:                        13:47:17   Log-Likelihood:                 26515.\n",
      "No. Observations:                9778   AIC:                        -5.303e+04\n",
      "Df Residuals:                    9776   BIC:                        -5.301e+04\n",
      "Df Model:                           1                                         \n",
      "Covariance Type:            nonrobust                                         \n",
      "==============================================================================\n",
      "                 coef    std err          t      P>|t|      [0.025      0.975]\n",
      "------------------------------------------------------------------------------\n",
      "const          0.0006      0.000      3.601      0.000       0.000       0.001\n",
      "x1             1.1872      0.014     83.288      0.000       1.159       1.215\n",
      "==============================================================================\n",
      "Omnibus:                     1451.257   Durbin-Watson:                   1.929\n",
      "Prob(Omnibus):                  0.000   Jarque-Bera (JB):            22136.865\n",
      "Skew:                           0.141   Prob(JB):                         0.00\n",
      "Kurtosis:                      10.366   Cond. No.                         87.7\n",
      "==============================================================================\n",
      "\n",
      "Notes:\n",
      "[1] Standard Errors assume that the covariance matrix of the errors is correctly specified.\n"
     ]
    }
   ],
   "source": [
    "df_eret=df_return['MSFT']-df_factor['RF']\n",
    "import statsmodels.api as sm\n",
    "\n",
    "X = df_factor['Mkt-RF']\n",
    "X = sm.add_constant(X)  # Adds a constant term to the predictor\n",
    "y = df_eret\n",
    "\n",
    "model = sm.OLS(y, X).fit()\n",
    "print(model.summary())"
   ]
  },
  {
   "cell_type": "code",
   "execution_count": 9,
   "id": "0b4dd792",
   "metadata": {},
   "outputs": [
    {
     "name": "stdout",
     "output_type": "stream",
     "text": [
      "Alpha: 0.0005855699261548292\n",
      "Beta: 1.187234068887255\n",
      "Variance of MSFT returns (var_r): 0.0004416123295030902\n",
      "Variance of market factor (var_f): 0.00013005387619649368\n",
      "Variance of residuals (var_e): 0.00025831692182161234\n",
      "Mean of market factor (mu_f): 0.00035668848435262666\n"
     ]
    }
   ],
   "source": [
    "alpha=model.params[0]\n",
    "beta=model.params[1]\n",
    "var_r=y.var()\n",
    "var_f=df_factor['Mkt-RF'].var()\n",
    "var_e=model.resid.var()\n",
    "mu_f=df_factor['Mkt-RF'].mean()\n",
    "print(f\"Alpha: {alpha}\")\n",
    "print(f\"Beta: {beta}\")\n",
    "print(f\"Variance of MSFT returns (var_r): {var_r}\")\n",
    "print(f\"Variance of market factor (var_f): {var_f}\")\n",
    "print(f\"Variance of residuals (var_e): {var_e}\")\n",
    "print(f\"Mean of market factor (mu_f): {mu_f}\")"
   ]
  },
  {
   "cell_type": "markdown",
   "id": "5e8c7a85",
   "metadata": {},
   "source": [
    ">#### Stop and Think\n",
    ">- What frequency are these parameters? \n",
    ">- How to I make it comparable say with the annual risk-free rate?\n",
    "> - What does the alpha mean? How should you think about it? Do you think is informative about future MSFT alpha? Why? Why not?\n",
    "> - What about the variance terms? And the covariance terms? "
   ]
  },
  {
   "cell_type": "markdown",
   "id": "b7c1b208",
   "metadata": {},
   "source": [
    "## Tacking, Hedging and Hedged portfolios"
   ]
  },
  {
   "cell_type": "markdown",
   "id": "f8c1597c",
   "metadata": {},
   "source": [
    "**Tracking Portfolios**\n",
    "\n",
    "We also refer to it as \"hedging portfolios\" or \"mimicking portfolios\"\n",
    "\n",
    "Tracking portfolios are the portfolios that use a set of factors to track the returns on an asset.\n",
    "\n",
    "* It can be used as a way to construct hedges for corporations, hedges for trading strategies, or a way to define a benchmark for an active management.\n",
    "\n",
    "* It is used to construct what people in the industry calls \"portable alpha\", because it allows one to separate the alpha of a trading strategy's factor exposure\n",
    "\n",
    "* The idea of the tracking portfolio is to track the component of an asset return that can be obtained by investing in a simple traded factor (or combos of traded factors). For now, this means the market portfolio.\n",
    "\n",
    "\n",
    "* For a given factor model representation of a trading strategy\n",
    "\n",
    "  $$r^e_i=\\alpha_i+\\beta_if+\\epsilon_i, $$\n",
    "\n",
    "  with $var(\\epsilon_i)=\\sigma_e^2$\n",
    "\n",
    "* the $i^{th}$ Tracking portfolio is $\\beta_iW^{MKT}$, where $W^{MKT}$ is the vector of weights of the market portfolio.\n",
    "\n",
    "* or if one is trading directly on the total market portfolio as an asset, the tracking portfolio weight on the market portfolio asset is simply $\\beta_i$\n",
    "\n",
    ">- In our case above we say the tracking portfolio of the stock is $\\beta$ and the hedging portfolio -$\\beta$ on the market\n",
    "\n"
   ]
  },
  {
   "cell_type": "code",
   "execution_count": null,
   "id": "ec88fd29",
   "metadata": {},
   "outputs": [
    {
     "data": {
      "image/png": "[encoded data removed]",
      "text/plain": [
       "<Figure size 432x288 with 1 Axes>"
      ]
     },
     "metadata": {},
     "output_type": "display_data"
    }
   ],
   "source": [
    "# Returns on the tracking portfolio\n",
    "\n",
    "Portfolio=df_eret\n",
    "MKT=df_factor['Mkt-RF']\n",
    "Tracking=MKT*beta\n",
    "\n",
    "plt.scatter(x=Portfolio,y=Portfolio)\n",
    "plt.scatter(x=Portfolio,y=Tracking)\n",
    "plt.show()"
   ]
  },
  {
   "cell_type": "markdown",
   "id": "a0fcf5c4",
   "metadata": {},
   "source": [
    "- We see here the obvious fact that we cannot track at all variation in the market with the market portfolio so they capture  different risks\n",
    "\n",
    "- Another way of looking at it is to put the factor returns on the x-axis\n",
    "\n",
    "- The tracking is a perfect straight line where the slope is the beta of the asset"
   ]
  },
  {
   "cell_type": "code",
   "execution_count": null,
   "id": "c821a0b2",
   "metadata": {},
   "outputs": [
    {
     "data": {
      "image/png": "[encoded data removed]",
      "text/plain": [
       "<Figure size 432x288 with 1 Axes>"
      ]
     },
     "metadata": {},
     "output_type": "display_data"
    }
   ],
   "source": [
    "Portfolio=df_eret\n",
    "MKT=df_factor['Mkt-RF']\n",
    "Tracking=MKT*beta\n",
    "\n",
    "plt.scatter(x=MKT,y=Portfolio)\n",
    "plt.scatter(x=MKT,y=Tracking)\n",
    "plt.show()"
   ]
  },
  {
   "cell_type": "markdown",
   "id": "5613b1c0",
   "metadata": {},
   "source": [
    "**Hedged portfolio**\n",
    "\n",
    "The Hedged strategy return (also called portable alpha) is \n",
    "\n",
    " $$r^{hedged}_i=r^e_i-\\beta_ir^{MKT}$$\n",
    "\n",
    " * This portfolio can be constructed simply by $W^i-\\beta^iW^{MKT}$, the weights of the trading strategy minus the tracking portfolio weights. \n",
    "  \n",
    " * The excess returns take out risk-free rate effects, and the hedged portfolio takes out market factor effects\n",
    "\n",
    "A few observations\n",
    "\n",
    "- The mean return of the hedged portfolio is just the time series alpha!\n",
    "\n",
    "- The volatility of the strategy is the vol of the residuals of the time series regression\n",
    "\n",
    "- If you run a regression on the market you will see that the hedged portfolios have $\\beta=0$, which is by construction. \n",
    "\n",
    "- This is the reason why sometimes people call these portfolios \"Pure Alpha\", or as Bridgwater calls it, \"Portable Alpha\"\n",
    "\n",
    "\n"
   ]
  },
  {
   "cell_type": "code",
   "execution_count": null,
   "id": "b4ee5768",
   "metadata": {},
   "outputs": [
    {
     "data": {
      "image/png": "[encoded data removed]",
      "text/plain": [
       "<Figure size 432x288 with 1 Axes>"
      ]
     },
     "metadata": {},
     "output_type": "display_data"
    }
   ],
   "source": [
    "# Returns on the hedged portfolio\n",
    "Hedged=Portfolio-Tracking\n",
    "\n",
    "plt.scatter(x=MKT,y=MKT)\n",
    "plt.scatter(x=MKT,y=Hedged)\n",
    "plt.show()\n",
    "\n"
   ]
  },
  {
   "cell_type": "markdown",
   "id": "c0a40ade",
   "metadata": {},
   "source": [
    ">#### Insight\n",
    ">The average excess return on the hedged portfolio is the alpha of the unhedged portfolio!\n",
    ">Intuition: The hedged portfolio has mechanically zero beta (in-sample) so it's excess return is \"pure\" alpha"
   ]
  },
  {
   "cell_type": "code",
   "execution_count": null,
   "id": "a0c436f4",
   "metadata": {},
   "outputs": [
    {
     "name": "stdout",
     "output_type": "stream",
     "text": [
      "hedge portfolio excess returns\n",
      "0.007026839113857923\n",
      "alpha of unhedge portfolio\n",
      "0.007026839113857951\n"
     ]
    }
   ],
   "source": [
    "\n",
    "print('hedge portfolio excess returns')\n",
    "print(Hedged.mean()*12)\n",
    "print('alpha of unhedge portfolio')\n",
    "print(alpha*12)\n"
   ]
  },
  {
   "cell_type": "markdown",
   "id": "c2f71b30",
   "metadata": {},
   "source": [
    "**Factor Models and Risk Budgets**\n",
    "\n",
    "Lets say we have 1 million dollar per month volatility (i.e. standard deviation) budget\n",
    "\n",
    "What that means? \n",
    "\n",
    "Means that the size of my position times the monthly volatility of my position must be less than 1 million dollars?\n",
    "\n",
    "> Why you might impose such a cap?\n",
    "\n",
    "How much o MSFT can I own?\n",
    "\n",
    "- If I invest one dollar in MSFT I get: $1*\\sqrt(var_r*252)$ standard deviation for 1 year\n",
    "- If I invest one dollar in MSFT I get: $1*\\sqrt(var_r*21)$ standard deviation for 1 month\n",
    "\n",
    "To get 1M per month I invest $\\frac{1M}{\\sqrt(var_r*21)}$\n",
    "\n"
   ]
  },
  {
   "cell_type": "code",
   "execution_count": 11,
   "id": "d2f38b0d",
   "metadata": {},
   "outputs": [
    {
     "data": {
      "text/plain": [
       "10.384121419128503"
      ]
     },
     "execution_count": 11,
     "metadata": {},
     "output_type": "execute_result"
    }
   ],
   "source": [
    "x=1/(var_r*21)**0.5\n",
    "x"
   ]
  },
  {
   "cell_type": "markdown",
   "id": "646e34bc",
   "metadata": {},
   "source": [
    "> What does that mean? How many million dollars I can buy of the stock?\n",
    "\n",
    "What if the budget was for 1 year? How many would I be able to buy?\n",
    "\n",
    "\n",
    "1. What is your expected PnL in the end of the year?\n",
    "\n",
    "    - Here we will subtract you funding costs, which I will assume is also rf so it will be a wash\n",
    "\n",
    "$$x*(rf+\\beta*\\mu_f+\\alpha-rf)*252$$\n",
    "\n",
    "\n",
    "2. What is your Expected PnL after your market exposure is subtracted\n",
    "\n",
    "$$x*(\\alpha)*252$$"
   ]
  },
  {
   "cell_type": "code",
   "execution_count": 67,
   "id": "53120ffb",
   "metadata": {},
   "outputs": [
    {
     "name": "stdout",
     "output_type": "stream",
     "text": [
      "0.7686879316063537\n",
      "0.4596563249799126\n"
     ]
    }
   ],
   "source": [
    "\n",
    "print(x*(beta*mu_f+alpha)*252)\n",
    "print(x*(alpha)*252)"
   ]
  },
  {
   "cell_type": "markdown",
   "id": "b1f263cf",
   "metadata": {},
   "source": [
    "Often shops have risk-adjusted PnL. So while you might expect to make ```x*(beta*mu_f+alpha)*252``` for the fund, they only comp you based on ```x*(alpha)*252```\n",
    "\n",
    "**Focusing on your edge**\n",
    "\n",
    "Now suppose you focus your edge--i.e. investing in MSFT but hedging the market risk\n",
    "\n",
    "1. How much of the market do I need to short per dollar invested in MSFT?\n",
    "\n",
    "you short exactly it's beta\n",
    "\n",
    "$$x_h=-\\beta$$\n",
    "\n",
    "So your portfolio is\n",
    "\n",
    "$$x*(stock:1,market:-\\beta)$$\n",
    "\n",
    "2. How many dollars in MSFT can I buy? (lets say for a yearly budget)\n",
    "\n",
    "$$\\frac{1M}{\\sqrt(var_e*252)}$$\n",
    "\n"
   ]
  },
  {
   "cell_type": "code",
   "execution_count": 64,
   "id": "d8a48665",
   "metadata": {},
   "outputs": [
    {
     "data": {
      "text/plain": [
       "3.8831665045807324"
      ]
     },
     "execution_count": 64,
     "metadata": {},
     "output_type": "execute_result"
    }
   ],
   "source": [
    "xe=1/(var_e*252)**0.5\n",
    "xe"
   ]
  },
  {
   "cell_type": "markdown",
   "id": "ec98b561",
   "metadata": {},
   "source": [
    "Why $var_e$ is the volatility of the hedge portfolio?\n",
    "\n",
    "Note that the hedged portfolio return is\n",
    "\n",
    "$$rh=re-\\beta*f=\\alpha+\\epsilon$$\n",
    "\n",
    "Note that $E[f\\epsilon]=0$ as beta is such that there is no factor risk left in the residuals ( that is the OLS regression assumption!)\n",
    "\n",
    "The leftover risk is exactly orthogonal to the factor risk\n",
    "\n",
    "This what makes this the optimal hedge portfolio--> it hedges all the market risk!\n",
    "\n",
    "So it follows that\n",
    "\n",
    "$$Var(rh)=Var(\\alpha+\\epsilon)=Var(\\epsilon)$$"
   ]
  },
  {
   "cell_type": "markdown",
   "id": "661fca06",
   "metadata": {},
   "source": [
    "- What is you expected  PnL?\n",
    "\n",
    "- What is you expected \"factor-adjusted PnL\"?"
   ]
  },
  {
   "cell_type": "code",
   "execution_count": 74,
   "id": "e7c348fb",
   "metadata": {},
   "outputs": [
    {
     "data": {
      "text/plain": [
       "0.6005130298526444"
      ]
     },
     "execution_count": 74,
     "metadata": {},
     "output_type": "execute_result"
    }
   ],
   "source": [
    "xe*(alpha*252)"
   ]
  },
  {
   "cell_type": "markdown",
   "id": "5e2e89cb",
   "metadata": {},
   "source": [
    "- What is your portfolio Sharpe Ratio? what is Sharpe Ratio anyways?\n",
    "- What is you portfolio Sharpe with the hedge and without the hedge?\n",
    "\n"
   ]
  },
  {
   "cell_type": "code",
   "execution_count": null,
   "id": "18f5c80b",
   "metadata": {},
   "outputs": [],
   "source": []
  },
  {
   "cell_type": "markdown",
   "id": "1b2ac908",
   "metadata": {},
   "source": [
    "## Variance Decomposition\n",
    "\n",
    "\n",
    "  \n",
    "\n",
    "\n",
    "\n",
    "\n"
   ]
  },
  {
   "cell_type": "markdown",
   "id": "70c7f87c",
   "metadata": {},
   "source": [
    "Factor models are essential to manage risk\n",
    "\n",
    "A pod shop manager , a manager in a mutual fund in a large mutual fund company, a hedge fund trader in a large hedge fund,...all of those will typically have tight limits on the TOTAL risk of their portfolio, i.e. $var(r)$ but also on the factor component of their portfolio\n",
    "\n",
    "But even if you don't, and you are an active manager with freedom of trading, you still want to control quite carefully how much non-essential risks you are taking in your portfolio\n",
    "\n",
    "The decomposition here with single factor is really easy, but once you understand it, the multi-factor decomposition will be also easy to understand ( even it a little more involved)\n",
    "\n",
    "1. The total variance of your strategy/asset is\n",
    "\n",
    "$$Var(r^e)=Var(\\alpha +b*f+\\epsilon)=Var(b*f)+Var(\\epsilon)=b^2Var(f)+var(\\epsilon)$$\n",
    "\n",
    "We can see already the factor part $(b^2Var(f))$ and the idiosyncratic part $var(\\epsilon)$. It decomposes nicely because e and f are orthogonal.\n",
    "\n",
    "2. The fraction of factor risk in your portfolio is\n",
    "\n",
    "$$\\frac{b^2Var(f)}{Var(r^e)}$$\n",
    "\n",
    "You factor risk depends\n",
    "\n",
    "- on your factor beta--this might grow in a market turmoil for example\n",
    "- on the factor variance--also might grow when markets are choppy\n",
    "\n",
    "The factor risk-share also depend on the idio vol. During a market turmoil all vols tend to go up, but factor vols tend to go up more\n",
    "So both your total risk grows as the share of factor risk"
   ]
  },
  {
   "cell_type": "code",
   "execution_count": 79,
   "id": "a4ea2e15",
   "metadata": {},
   "outputs": [
    {
     "data": {
      "text/plain": [
       "0.4141025460425463"
      ]
     },
     "execution_count": 79,
     "metadata": {},
     "output_type": "execute_result"
    }
   ],
   "source": [
    "beta**2*var_f/var_r"
   ]
  },
  {
   "cell_type": "markdown",
   "id": "65a7fe50",
   "metadata": {},
   "source": [
    "### Hitting Factor target"
   ]
  },
  {
   "cell_type": "markdown",
   "id": "c5df4057",
   "metadata": {},
   "source": [
    "Suppose I want to get this to the 20% limit. What do I do?\n",
    "\n",
    "Lets say xh is your position on the market, then your portfolio is\n",
    "\n",
    "$$rp=x(1*re+xh*f)$$\n",
    "\n",
    "You want the factor piece to be less than vbar=20%\n",
    "\n",
    "$$Var(rp)=Var(x(1*re+xh*f))=Var(x(1*(\\alpha+\\beta*f+\\epsilon)+xh*f))=Var(x(\\beta+xh)*f)+x^2Var(\\epsilon)$$\n",
    "\n",
    "$$Var(rp)=x^2(\\beta+xh)^2*Var(f)+x^2Var(\\epsilon)$$\n",
    "\n",
    "so we need\n",
    "\n",
    "\n",
    "$$\\frac{x^2(\\beta+xh)^2*Var(f)}{x^2(\\beta+xh)^2*Var(f)+x^2Var(\\epsilon)}=vbar$$\n",
    "\n",
    "Note that your size of your overall portfolio cancels out. \n",
    "\n",
    "What matters for the share is your hedge per unit of position\n",
    "\n",
    "$$\\frac{(\\beta+xh)^2*Var(f)}{(\\beta+xh)^2*Var(f)+Var(\\epsilon)}=vbar$$\n",
    "\n",
    "reorganizing\n",
    "\n",
    "\n",
    "$$(\\beta+xh)^2*Var(f)=vbar*((\\beta+xh)^2*Var(f)+Var(\\epsilon))$$\n",
    "\n",
    "$$(1-vbar)(\\beta+xh)^2*Var(f)=vbar*Var(\\epsilon)$$\n",
    "\n",
    "$$(\\beta+xh)^2=\\frac{vbar*Var(\\epsilon)}{(1-vbar)Var(f)}$$\n",
    "\n",
    "$$(\\beta+xh)=\\sqrt{vbar\\frac{Var(\\epsilon)}{(1-vbar)Var(f)}}$$\n",
    "\n",
    "$$xh=\\sqrt{\\frac{vbar*Var(\\epsilon)}{(1-vbar)Var(f)}}-\\beta$$\n",
    "\n",
    "\n",
    "\n",
    "What is the hedge portfolio if you want zero factor risk?"
   ]
  },
  {
   "cell_type": "code",
   "execution_count": 80,
   "id": "6a4bc129",
   "metadata": {},
   "outputs": [
    {
     "data": {
      "text/plain": [
       "-0.4816910986685352"
      ]
     },
     "execution_count": 80,
     "metadata": {},
     "output_type": "execute_result"
    }
   ],
   "source": [
    "vbar=0.2\n",
    "xh20=((vbar*var_e)/((1-vbar)*var_f))**0.5-beta\n",
    "xh20"
   ]
  },
  {
   "cell_type": "markdown",
   "id": "d87be0b0",
   "metadata": {},
   "source": [
    "---\n",
    "**📝 Key Takeaways**\n",
    "\n",
    "- **Factor models separate what you *earn* from what you *ride*.**  \n",
    "  Beta captures common market movements; alpha is the slice of return not explained by those movements.  \n",
    "\n",
    "- **Hedging out β turns views into “portable” alpha.**  \n",
    "  Going long the asset and short β units of the factor neutralizes systematic risk, leaving a position whose mean excess return equals its alpha and whose volatility equals the residual variance.  \n",
    "\n",
    "- **Risk budgets shrink once you hedge intelligently.**  \n",
    "  A hedged position’s lower volatility allows you to deploy more capital for the same risk cap—and to earn more alpha-attributed P&L.  \n",
    "\n",
    "- **Variance decomposition is your monitoring dashboard.**  \n",
    "  It tells you how much of today’s risk is coming from factors versus idiosyncratic shocks and highlights when market turmoil swells the factor share.  \n",
    "\n",
    "- **Tracking portfolios clarify performance attribution.**  \n",
    "  By explicitly matching the factor component, you can assess whether a manager’s outperformance is genuine skill or just hidden beta.  \n",
    "\n",
    "- **Factor-implied covariance matrices are parsimonious and , maybe, more intuitive.**  \n",
    "  Estimating only N betas, N idiosyncratic variances, and one factor variance yields a workable covariance estimate even when the full N × N matrix is unmanageable.  \n",
    "\n",
    "- **All numbers are frequency-specific.**  \n",
    "  Alpha, variances, co-variances and Sharpe ratios must be annualized (or otherwise scaled) consistently before comparison or budgeting.  Beta is the only one that is theoretically invariant \n",
    "\n",
    "- **Good questions drive good models.**  \n",
    "  Throughout the notebook “Stop and Think” prompts remind you to check data frequency, interpret α’s forecasting value, and judge whether the single-factor assumption is adequate for your application.\n",
    "\n",
    "---\n",
    "\n",
    "\n"
   ]
  },
  {
   "cell_type": "markdown",
   "id": "462238ae",
   "metadata": {},
   "source": []
  }
 ],
 "metadata": {
  "kernelspec": {
   "display_name": "base",
   "language": "python",
   "name": "python3"
  },
  "language_info": {
   "codemirror_mode": {
    "name": "ipython",
    "version": 3
   },
   "file_extension": ".py",
   "mimetype": "text/x-python",
   "name": "python",
   "nbconvert_exporter": "python",
   "pygments_lexer": "ipython3",
   "version": "3.9.19"
  }
 },
 "nbformat": 4,
 "nbformat_minor": 5
}
